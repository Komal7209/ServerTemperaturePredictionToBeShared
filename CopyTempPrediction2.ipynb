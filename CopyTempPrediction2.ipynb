{
  "nbformat": 4,
  "nbformat_minor": 0,
  "metadata": {
    "colab": {
      "name": "TempPrediction2.ipynb",
      "provenance": [],
      "mount_file_id": "1UIHCNZmFahwaZy2594vqTM8N-FSl2jbE",
      "authorship_tag": "ABX9TyMNa0LeliXZeTEirZL1LMCQ",
      "include_colab_link": true
    },
    "kernelspec": {
      "name": "python3",
      "display_name": "Python 3"
    },
    "language_info": {
      "name": "python"
    }
  },
  "cells": [
    {
      "cell_type": "markdown",
      "metadata": {
        "id": "view-in-github",
        "colab_type": "text"
      },
      "source": [
        "<a href=\"https://colab.research.google.com/github/Komal7209/ServerTemperaturePredictionToBeShared/blob/main/CopyTempPrediction2.ipynb\" target=\"_parent\"><img src=\"https://colab.research.google.com/assets/colab-badge.svg\" alt=\"Open In Colab\"/></a>"
      ]
    },
    {
      "cell_type": "code",
      "source": [
        "import tqdm\n",
        "import pandas as pd\n",
        "import torch\n",
        "import torch.nn as nn\n",
        "from torch.optim import Adam\n",
        "from torch.utils.data import Dataset, DataLoader\n",
        "import datetime\n",
        "import numpy as np\n",
        "from sklearn.model_selection import train_test_split\n",
        "import matplotlib.pyplot as plt\n",
        "!pip install wandb\n",
        "import wandb"
      ],
      "metadata": {
        "colab": {
          "base_uri": "https://localhost:8080/"
        },
        "id": "nibO3wUzcDcj",
        "outputId": "df7a6cdc-ef4b-40e3-d9e7-475e69e9feef"
      },
      "execution_count": null,
      "outputs": [
        {
          "output_type": "stream",
          "name": "stdout",
          "text": [
            "Requirement already satisfied: wandb in /usr/local/lib/python3.7/dist-packages (0.12.11)\n",
            "Requirement already satisfied: requests<3,>=2.0.0 in /usr/local/lib/python3.7/dist-packages (from wandb) (2.23.0)\n",
            "Requirement already satisfied: yaspin>=1.0.0 in /usr/local/lib/python3.7/dist-packages (from wandb) (2.1.0)\n",
            "Requirement already satisfied: Click!=8.0.0,>=7.0 in /usr/local/lib/python3.7/dist-packages (from wandb) (7.1.2)\n",
            "Requirement already satisfied: six>=1.13.0 in /usr/local/lib/python3.7/dist-packages (from wandb) (1.15.0)\n",
            "Requirement already satisfied: shortuuid>=0.5.0 in /usr/local/lib/python3.7/dist-packages (from wandb) (1.0.8)\n",
            "Requirement already satisfied: docker-pycreds>=0.4.0 in /usr/local/lib/python3.7/dist-packages (from wandb) (0.4.0)\n",
            "Requirement already satisfied: pathtools in /usr/local/lib/python3.7/dist-packages (from wandb) (0.1.2)\n",
            "Requirement already satisfied: GitPython>=1.0.0 in /usr/local/lib/python3.7/dist-packages (from wandb) (3.1.27)\n",
            "Requirement already satisfied: PyYAML in /usr/local/lib/python3.7/dist-packages (from wandb) (3.13)\n",
            "Requirement already satisfied: sentry-sdk>=1.0.0 in /usr/local/lib/python3.7/dist-packages (from wandb) (1.5.8)\n",
            "Requirement already satisfied: setproctitle in /usr/local/lib/python3.7/dist-packages (from wandb) (1.2.2)\n",
            "Requirement already satisfied: protobuf>=3.12.0 in /usr/local/lib/python3.7/dist-packages (from wandb) (3.17.3)\n",
            "Requirement already satisfied: promise<3,>=2.0 in /usr/local/lib/python3.7/dist-packages (from wandb) (2.3)\n",
            "Requirement already satisfied: psutil>=5.0.0 in /usr/local/lib/python3.7/dist-packages (from wandb) (5.4.8)\n",
            "Requirement already satisfied: python-dateutil>=2.6.1 in /usr/local/lib/python3.7/dist-packages (from wandb) (2.8.2)\n",
            "Requirement already satisfied: typing-extensions>=3.7.4.3 in /usr/local/lib/python3.7/dist-packages (from GitPython>=1.0.0->wandb) (3.10.0.2)\n",
            "Requirement already satisfied: gitdb<5,>=4.0.1 in /usr/local/lib/python3.7/dist-packages (from GitPython>=1.0.0->wandb) (4.0.9)\n",
            "Requirement already satisfied: smmap<6,>=3.0.1 in /usr/local/lib/python3.7/dist-packages (from gitdb<5,>=4.0.1->GitPython>=1.0.0->wandb) (5.0.0)\n",
            "Requirement already satisfied: urllib3!=1.25.0,!=1.25.1,<1.26,>=1.21.1 in /usr/local/lib/python3.7/dist-packages (from requests<3,>=2.0.0->wandb) (1.24.3)\n",
            "Requirement already satisfied: certifi>=2017.4.17 in /usr/local/lib/python3.7/dist-packages (from requests<3,>=2.0.0->wandb) (2021.10.8)\n",
            "Requirement already satisfied: chardet<4,>=3.0.2 in /usr/local/lib/python3.7/dist-packages (from requests<3,>=2.0.0->wandb) (3.0.4)\n",
            "Requirement already satisfied: idna<3,>=2.5 in /usr/local/lib/python3.7/dist-packages (from requests<3,>=2.0.0->wandb) (2.10)\n",
            "Requirement already satisfied: termcolor<2.0.0,>=1.1.0 in /usr/local/lib/python3.7/dist-packages (from yaspin>=1.0.0->wandb) (1.1.0)\n"
          ]
        }
      ]
    },
    {
      "cell_type": "code",
      "source": [
        "#8. visualising the metrics\n",
        "# could be weights and bias\n",
        "# or generic pyplot\n",
        "wandb.init(project = \"LSTM\")  # For creating new project at wanb website"
      ],
      "metadata": {
        "colab": {
          "base_uri": "https://localhost:8080/",
          "height": 126
        },
        "id": "stf6cBVPcZAv",
        "outputId": "13208558-76d3-423a-ab80-342bd26bb552"
      },
      "execution_count": null,
      "outputs": [
        {
          "output_type": "display_data",
          "data": {
            "text/plain": [
              "<IPython.core.display.Javascript object>"
            ],
            "application/javascript": [
              "\n",
              "        window._wandbApiKey = new Promise((resolve, reject) => {\n",
              "            function loadScript(url) {\n",
              "            return new Promise(function(resolve, reject) {\n",
              "                let newScript = document.createElement(\"script\");\n",
              "                newScript.onerror = reject;\n",
              "                newScript.onload = resolve;\n",
              "                document.body.appendChild(newScript);\n",
              "                newScript.src = url;\n",
              "            });\n",
              "            }\n",
              "            loadScript(\"https://cdn.jsdelivr.net/npm/postmate/build/postmate.min.js\").then(() => {\n",
              "            const iframe = document.createElement('iframe')\n",
              "            iframe.style.cssText = \"width:0;height:0;border:none\"\n",
              "            document.body.appendChild(iframe)\n",
              "            const handshake = new Postmate({\n",
              "                container: iframe,\n",
              "                url: 'https://wandb.ai/authorize'\n",
              "            });\n",
              "            const timeout = setTimeout(() => reject(\"Couldn't auto authenticate\"), 5000)\n",
              "            handshake.then(function(child) {\n",
              "                child.on('authorize', data => {\n",
              "                    clearTimeout(timeout)\n",
              "                    resolve(data)\n",
              "                });\n",
              "            });\n",
              "            })\n",
              "        });\n",
              "    "
            ]
          },
          "metadata": {}
        },
        {
          "output_type": "stream",
          "name": "stderr",
          "text": [
            "\u001b[34m\u001b[1mwandb\u001b[0m: Appending key for api.wandb.ai to your netrc file: /root/.netrc\n"
          ]
        },
        {
          "output_type": "display_data",
          "data": {
            "text/plain": [
              "<IPython.core.display.HTML object>"
            ],
            "text/html": [
              "Tracking run with wandb version 0.12.11"
            ]
          },
          "metadata": {}
        },
        {
          "output_type": "display_data",
          "data": {
            "text/plain": [
              "<IPython.core.display.HTML object>"
            ],
            "text/html": [
              "Run data is saved locally in <code>/content/wandb/run-20220403_120318-3p0jrifm</code>"
            ]
          },
          "metadata": {}
        },
        {
          "output_type": "display_data",
          "data": {
            "text/plain": [
              "<IPython.core.display.HTML object>"
            ],
            "text/html": [
              "Syncing run <strong><a href=\"https://wandb.ai/kp7209/LSTM/runs/3p0jrifm\" target=\"_blank\">dutiful-dragon-5</a></strong> to <a href=\"https://wandb.ai/kp7209/LSTM\" target=\"_blank\">Weights & Biases</a> (<a href=\"https://wandb.me/run\" target=\"_blank\">docs</a>)<br/>"
            ]
          },
          "metadata": {}
        },
        {
          "output_type": "execute_result",
          "data": {
            "text/html": [
              "<button onClick=\"this.nextSibling.style.display='block';this.style.display='none';\">Display W&B run</button><iframe src=\"https://wandb.ai/kp7209/LSTM/runs/3p0jrifm?jupyter=true\" style=\"border:none;width:100%;height:420px;display:none;\"></iframe>"
            ],
            "text/plain": [
              "<wandb.sdk.wandb_run.Run at 0x7fed43a3dfd0>"
            ]
          },
          "metadata": {},
          "execution_count": 9
        }
      ]
    },
    {
      "cell_type": "code",
      "source": [
        "# 1. dataset creation\n",
        "class stockdataset(Dataset):\n",
        "    def __init__(self, x, y):\n",
        "        self.x = x\n",
        "        self.y = y\n",
        "\n",
        "    def __getitem__(self, i):\n",
        "        return self.x[i], self.y[i]\n",
        "\n",
        "    def __len__(self):\n",
        "        return len(self.x)"
      ],
      "metadata": {
        "id": "zSuEQcckceYW"
      },
      "execution_count": null,
      "outputs": []
    },
    {
      "cell_type": "code",
      "source": [
        "#2. lstm model\n",
        "class Lstm(nn.Module):\n",
        "    def __init__(self):\n",
        "        super(Lstm, self).__init__()\n",
        "        self.lstm1 = nn.LSTM(1,4,1) #input_size , n_hidden, n_layers\n",
        "        self.h0 = torch.randn(1,1,4)\n",
        "        self.c0 = torch.randn(1,1,4)\n",
        "\n",
        "        self.l1 = nn.Linear(4,1) #hidden_nodes(from previous lstm layer), output_size #linear layer\n",
        "        #self.l2 = nn.Linear(64,1)\n",
        "\n",
        "    def forward(self, x):\n",
        "        o1 = self.lstm1(x, (self.h0, self.c0))\n",
        "        o2 = self.l1(o1[0])\n",
        "        #return self.l2(o2)\n",
        "        return o2"
      ],
      "metadata": {
        "id": "rbK5nUVgcilw"
      },
      "execution_count": null,
      "outputs": []
    },
    {
      "cell_type": "code",
      "source": [
        "#4.for converting timestamp to string\n",
        "def datetime_to_string(dt):\n",
        "    year, month, day, hour, minute, second = dt\n",
        "    DT = datetime.datetime(int(year),int(month), int(day), int(hour), int(minute), int(second))\n",
        "    DN = (DT - datetime.datetime(2000,1,1)).total_seconds()\n",
        "    return float(repr(DN))\n",
        "\n",
        "#5. normalising the input and labels\n",
        "def normalise(data):\n",
        "  normalized_dataset = (data - np.min(data)) / (np.max(data) - np.min(data))\n",
        "  return normalized_dataset\n",
        "\n",
        "if __name__ == '__main__':\n",
        "    #3. getting the dataset with pandas\n",
        "    dataset = pd.read_csv('/content/drive/MyDrive/ServerTemperaturePrediction/ambient_temperature_system_failure.csv')\n",
        "    x = dataset.iloc[:,0].values #inputs\n",
        "    y = dataset.iloc[:,1].values #labels\n",
        "\n",
        "    x = [i.split()[0].split(\"-\") + i.split()[1].split(\":\") for i in x ]\n",
        "    x = [datetime_to_string(i) for i in x]#timestamp\n",
        "\n",
        "    x = normalise(np.array(x)) #normalised timestamp\n",
        "    y = normalise(np.array(y)) #value\n",
        "\n",
        "    X_train, X_test, y_train, y_test = train_test_split(x, y, test_size=0.20, random_state=42)"
      ],
      "metadata": {
        "id": "3xRhUOINcnXj"
      },
      "execution_count": null,
      "outputs": []
    },
    {
      "cell_type": "code",
      "source": [
        "#7. set up the metrics\n",
        "# for performance of model\n",
        "!pip install torchmetrics\n",
        "from torchmetrics import CosineSimilarity, MeanAbsoluteError, MeanSquaredError\n",
        "\n",
        "def get_metrics(output, y):\n",
        "  mean_absolute_error = MeanAbsoluteError()\n",
        "  mean_squared_error = MeanSquaredError()\n",
        "  cosine_similarity = CosineSimilarity(reduction = 'mean')\n",
        "\n",
        "  m1 = mean_absolute_error(output, y) #preds, target\n",
        "  m2 = mean_squared_error(output, y)\n",
        "  m3 = cosine_similarity(output, y)\n",
        "\n",
        "  return {'mae':m1 ,'mse':m2, 'cs':m3}"
      ],
      "metadata": {
        "colab": {
          "base_uri": "https://localhost:8080/"
        },
        "id": "GHFoNWwQdsLk",
        "outputId": "e190effa-5e11-4fb1-a82e-3fbb87ea46f6"
      },
      "execution_count": null,
      "outputs": [
        {
          "output_type": "stream",
          "name": "stdout",
          "text": [
            "Requirement already satisfied: torchmetrics in /usr/local/lib/python3.7/dist-packages (0.7.3)\n",
            "Requirement already satisfied: packaging in /usr/local/lib/python3.7/dist-packages (from torchmetrics) (21.3)\n",
            "Requirement already satisfied: torch>=1.3.1 in /usr/local/lib/python3.7/dist-packages (from torchmetrics) (1.10.0+cu111)\n",
            "Requirement already satisfied: pyDeprecate==0.3.* in /usr/local/lib/python3.7/dist-packages (from torchmetrics) (0.3.2)\n",
            "Requirement already satisfied: numpy>=1.17.2 in /usr/local/lib/python3.7/dist-packages (from torchmetrics) (1.21.5)\n",
            "Requirement already satisfied: typing-extensions in /usr/local/lib/python3.7/dist-packages (from torch>=1.3.1->torchmetrics) (3.10.0.2)\n",
            "Requirement already satisfied: pyparsing!=3.0.5,>=2.0.2 in /usr/local/lib/python3.7/dist-packages (from packaging->torchmetrics) (3.0.7)\n"
          ]
        }
      ]
    },
    {
      "cell_type": "code",
      "execution_count": null,
      "metadata": {
        "colab": {
          "base_uri": "https://localhost:8080/"
        },
        "id": "2c2gYc2lbAPk",
        "outputId": "9b66dd1f-445b-48ba-e618-9911e2266b14"
      },
      "outputs": [
        {
          "output_type": "stream",
          "name": "stderr",
          "text": [
            " 10%|█         | 1/10 [00:01<00:09,  1.07s/it]"
          ]
        },
        {
          "output_type": "stream",
          "name": "stdout",
          "text": [
            "epoch 0, loss: 0.07935812324285507\n"
          ]
        },
        {
          "output_type": "stream",
          "name": "stderr",
          "text": [
            "\r 20%|██        | 2/10 [00:02<00:09,  1.15s/it]"
          ]
        },
        {
          "output_type": "stream",
          "name": "stdout",
          "text": [
            "epoch 1, loss: 0.06841719150543213\n"
          ]
        },
        {
          "output_type": "stream",
          "name": "stderr",
          "text": [
            "\r 30%|███       | 3/10 [00:03<00:07,  1.12s/it]"
          ]
        },
        {
          "output_type": "stream",
          "name": "stdout",
          "text": [
            "epoch 2, loss: 0.04779666289687157\n"
          ]
        },
        {
          "output_type": "stream",
          "name": "stderr",
          "text": [
            "\r 40%|████      | 4/10 [00:04<00:06,  1.15s/it]"
          ]
        },
        {
          "output_type": "stream",
          "name": "stdout",
          "text": [
            "epoch 3, loss: 0.02181105688214302\n"
          ]
        },
        {
          "output_type": "stream",
          "name": "stderr",
          "text": [
            "\r 50%|█████     | 5/10 [00:05<00:05,  1.14s/it]"
          ]
        },
        {
          "output_type": "stream",
          "name": "stdout",
          "text": [
            "epoch 4, loss: 0.004806071985512972\n"
          ]
        },
        {
          "output_type": "stream",
          "name": "stderr",
          "text": [
            "\r 60%|██████    | 6/10 [00:07<00:05,  1.29s/it]"
          ]
        },
        {
          "output_type": "stream",
          "name": "stdout",
          "text": [
            "epoch 5, loss: 0.0008165253093466163\n"
          ]
        },
        {
          "output_type": "stream",
          "name": "stderr",
          "text": [
            "\r 70%|███████   | 7/10 [00:09<00:04,  1.64s/it]"
          ]
        },
        {
          "output_type": "stream",
          "name": "stdout",
          "text": [
            "epoch 6, loss: 0.0004771700769197196\n"
          ]
        },
        {
          "output_type": "stream",
          "name": "stderr",
          "text": [
            "\r 80%|████████  | 8/10 [00:11<00:03,  1.75s/it]"
          ]
        },
        {
          "output_type": "stream",
          "name": "stdout",
          "text": [
            "epoch 7, loss: 0.00040152997826226056\n"
          ]
        },
        {
          "output_type": "stream",
          "name": "stderr",
          "text": [
            "\r 90%|█████████ | 9/10 [00:13<00:01,  1.90s/it]"
          ]
        },
        {
          "output_type": "stream",
          "name": "stdout",
          "text": [
            "epoch 8, loss: 0.00035445508547127247\n"
          ]
        },
        {
          "output_type": "stream",
          "name": "stderr",
          "text": [
            "100%|██████████| 10/10 [00:15<00:00,  1.60s/it]"
          ]
        },
        {
          "output_type": "stream",
          "name": "stdout",
          "text": [
            "epoch 9, loss: 0.00031904797651804984\n"
          ]
        },
        {
          "output_type": "stream",
          "name": "stderr",
          "text": [
            "\n"
          ]
        }
      ],
      "source": [
        "#6. Training of Model\n",
        "\n",
        "#creating the dataset and dataloader with the inputs and labels\n",
        "d1 = stockdataset(X_train,y_train)\n",
        "d2 = stockdataset(X_test,y_test)\n",
        "\n",
        "train_dataloader = DataLoader(d1, batch_size=128, shuffle=False)\n",
        "test_dataloader = DataLoader(d2, batch_size=32, shuffle=False)\n",
        "\n",
        "#calling the model, loss, optimizer\n",
        "model = Lstm()\n",
        "loss = nn.MSELoss()\n",
        "optim = Adam(model.parameters(), lr=2e-3)\n",
        "\n",
        "#hyperparameter\n",
        "EPOCH = 10\n",
        "\n",
        "loss_per_iter = []\n",
        "#training loop\n",
        "for i in tqdm.tqdm(range(EPOCH)):\n",
        "    average_train_loss = 0.0\n",
        "    for data in train_dataloader:\n",
        "        x, y = data\n",
        "        x = torch.unsqueeze(torch.unsqueeze(x, 1), 1).to(torch.float32)\n",
        "        y = torch.unsqueeze(x, 1).to(torch.float32)\n",
        "        y = torch.squeeze(y,3)\n",
        "        output = model(x)\n",
        "        optim.zero_grad()\n",
        "        ls = loss(output, y)\n",
        "        ls.backward()\n",
        "        optim.step()\n",
        "        l1 = get_metrics(output, y)\n",
        "        average_train_loss += ls\n",
        "    wandb.log(get_metrics(output, y))\n",
        "    print(f'epoch {i}, loss: {average_train_loss/len(train_dataloader)}')\n",
        "    loss_per_iter.append(average_train_loss.detach().numpy()/len(train_dataloader))"
      ]
    },
    {
      "cell_type": "code",
      "source": [
        "#Dont need to run again\n",
        "#Save Model\n",
        "!mkdir TempModel2\n",
        "torch.save(model.state_dict(), 'TempModel2/model.pt')\n",
        "\n",
        "#Dont need to run again\n",
        "#Load Model\n",
        "model2 = Lstm()\n",
        "model2.load_state_dict(torch.load('TempModel2/model.pt'))\n",
        "model2.eval() #here input would be given"
      ],
      "metadata": {
        "colab": {
          "base_uri": "https://localhost:8080/"
        },
        "id": "oiN1wrjWb5Zt",
        "outputId": "c35eb56c-71a8-4f00-fa98-896b0d279685"
      },
      "execution_count": null,
      "outputs": [
        {
          "output_type": "execute_result",
          "data": {
            "text/plain": [
              "Lstm(\n",
              "  (lstm1): LSTM(1, 4)\n",
              "  (l1): Linear(in_features=4, out_features=1, bias=True)\n",
              ")"
            ]
          },
          "metadata": {},
          "execution_count": 15
        }
      ]
    },
    {
      "cell_type": "code",
      "source": [
        "\"\"\" test loop \"\"\"\n",
        "\n",
        "model.eval()\n",
        "total_test_loss = 0.0\n",
        "for data in test_dataloader:\n",
        "    x, y = data\n",
        "    x = torch.unsqueeze(torch.unsqueeze(x, 1), 1).to(torch.float32)\n",
        "    y = torch.unsqueeze(x, 1).to(torch.float32)\n",
        "    y = torch.squeeze(y,3)\n",
        "    output = model(x)\n",
        "    total_test_loss += loss(output, y)\n",
        "\n",
        "print(\"test loss: \", total_test_loss/len(test_dataloader))\n",
        "plt.plot([i for i in range(EPOCH)], loss_per_iter)\n",
        "plt.xlabel('EPOCH')\n",
        "plt.ylabel('Loss_per_iteration')\n",
        "plt.title('Training Loss')\n",
        "# plt.legend()\n",
        "plt.show()\n",
        "\n",
        "\n",
        "# model parameter\n",
        "for i in model.parameters():\n",
        "    print(i.shape)\n",
        "\n",
        "# hyperparamter optimise\n",
        "\n",
        "#accuracy "
      ],
      "metadata": {
        "colab": {
          "base_uri": "https://localhost:8080/",
          "height": 417
        },
        "id": "AdD9Ld4Uc2J-",
        "outputId": "a384e157-4248-48b5-d67e-97bc2a3d7062"
      },
      "execution_count": null,
      "outputs": [
        {
          "output_type": "stream",
          "name": "stdout",
          "text": [
            "test loss:  tensor(0.0010, grad_fn=<DivBackward0>)\n"
          ]
        },
        {
          "output_type": "display_data",
          "data": {
            "text/plain": [
              "<Figure size 432x288 with 1 Axes>"
            ],
            "image/png": "[encoded data removed]"
          },
          "metadata": {
            "needs_background": "light"
          }
        },
        {
          "output_type": "stream",
          "name": "stdout",
          "text": [
            "torch.Size([16, 1])\n",
            "torch.Size([16, 4])\n",
            "torch.Size([16])\n",
            "torch.Size([16])\n",
            "torch.Size([1, 4])\n",
            "torch.Size([1])\n"
          ]
        }
      ]
    },
    {
      "cell_type": "code",
      "source": [
        "#Model Accuracy\n",
        "\n"
      ],
      "metadata": {
        "id": "oJwO43RST7mg"
      },
      "execution_count": null,
      "outputs": []
    }
  ]
}